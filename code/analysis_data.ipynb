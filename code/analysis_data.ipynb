{
 "cells": [
  {
   "cell_type": "code",
   "execution_count": 16,
   "metadata": {
    "collapsed": true,
    "ExecuteTime": {
     "end_time": "2023-07-01T17:14:57.102800Z",
     "start_time": "2023-07-01T17:14:57.100477Z"
    }
   },
   "outputs": [],
   "source": [
    "import glob\n",
    "import pandas as pd\n",
    "import re"
   ]
  },
  {
   "cell_type": "code",
   "execution_count": 154,
   "outputs": [],
   "source": [
    "directorio_json = \"/Users/rudikrompich/Git/analisis_tse_elecciones_2023/departamento/distrito_central/municipio/guatemala/corporacion_municipal/actas_originales\"\n",
    "directorio_json_documentos = glob.glob(directorio_json + \"/*.json\")\n",
    "directorio_trep_documento = \"/Users/rudikrompich/Git/analisis_tse_elecciones_2023/departamento/distrito_central/municipio/guatemala/corporacion_municipal/actas_csv_sistema_trep/4-CORPORACIÓN/gtm2023_e4d00m01.csv\"\n"
   ],
   "metadata": {
    "collapsed": false,
    "ExecuteTime": {
     "end_time": "2023-07-01T21:03:57.610473Z",
     "start_time": "2023-07-01T21:03:57.596939Z"
    }
   }
  },
  {
   "cell_type": "code",
   "execution_count": 155,
   "outputs": [
    {
     "data": {
      "text/plain": "               PARTIDO  CANTIDAD_OCR  CENTRO_DE_VOTACIÓN  MESA\n0                  UNE            17                  94  1276\n1      VALOR UNIONISTA            36                  94  1276\n2                   PR             0                  94  1276\n3               CAMBIO             4                  94  1276\n4                 AZUL             3                  94  1276\n...                ...           ...                 ...   ...\n46524            CABAL             4                  42   537\n46525             VIVA             7                  42   537\n46526          PODEMOS            14                  42   537\n46527            PODER             0                  42   537\n46528             CREO            53                  42   537\n\n[46529 rows x 4 columns]",
      "text/html": "<div>\n<style scoped>\n    .dataframe tbody tr th:only-of-type {\n        vertical-align: middle;\n    }\n\n    .dataframe tbody tr th {\n        vertical-align: top;\n    }\n\n    .dataframe thead th {\n        text-align: right;\n    }\n</style>\n<table border=\"1\" class=\"dataframe\">\n  <thead>\n    <tr style=\"text-align: right;\">\n      <th></th>\n      <th>PARTIDO</th>\n      <th>CANTIDAD_OCR</th>\n      <th>CENTRO_DE_VOTACIÓN</th>\n      <th>MESA</th>\n    </tr>\n  </thead>\n  <tbody>\n    <tr>\n      <th>0</th>\n      <td>UNE</td>\n      <td>17</td>\n      <td>94</td>\n      <td>1276</td>\n    </tr>\n    <tr>\n      <th>1</th>\n      <td>VALOR UNIONISTA</td>\n      <td>36</td>\n      <td>94</td>\n      <td>1276</td>\n    </tr>\n    <tr>\n      <th>2</th>\n      <td>PR</td>\n      <td>0</td>\n      <td>94</td>\n      <td>1276</td>\n    </tr>\n    <tr>\n      <th>3</th>\n      <td>CAMBIO</td>\n      <td>4</td>\n      <td>94</td>\n      <td>1276</td>\n    </tr>\n    <tr>\n      <th>4</th>\n      <td>AZUL</td>\n      <td>3</td>\n      <td>94</td>\n      <td>1276</td>\n    </tr>\n    <tr>\n      <th>...</th>\n      <td>...</td>\n      <td>...</td>\n      <td>...</td>\n      <td>...</td>\n    </tr>\n    <tr>\n      <th>46524</th>\n      <td>CABAL</td>\n      <td>4</td>\n      <td>42</td>\n      <td>537</td>\n    </tr>\n    <tr>\n      <th>46525</th>\n      <td>VIVA</td>\n      <td>7</td>\n      <td>42</td>\n      <td>537</td>\n    </tr>\n    <tr>\n      <th>46526</th>\n      <td>PODEMOS</td>\n      <td>14</td>\n      <td>42</td>\n      <td>537</td>\n    </tr>\n    <tr>\n      <th>46527</th>\n      <td>PODER</td>\n      <td>0</td>\n      <td>42</td>\n      <td>537</td>\n    </tr>\n    <tr>\n      <th>46528</th>\n      <td>CREO</td>\n      <td>53</td>\n      <td>42</td>\n      <td>537</td>\n    </tr>\n  </tbody>\n</table>\n<p>46529 rows × 4 columns</p>\n</div>"
     },
     "execution_count": 155,
     "metadata": {},
     "output_type": "execute_result"
    }
   ],
   "source": [
    "df_complete_ocr = pd.DataFrame()\n",
    "for documento in directorio_json_documentos:\n",
    "    parts = documento.split('/')\n",
    "    desired_part = parts[-1]\n",
    "    numbers = re.findall(r'\\d+', desired_part)\n",
    "    centro = int(numbers[0])\n",
    "    mesa = int(numbers[1])\n",
    "    df = pd.read_json(documento)\n",
    "    df[\"CENTRO_DE_VOTACIÓN\"] = centro\n",
    "    df[\"MESA\"] = mesa\n",
    "    df_complete_ocr = pd.concat([df_complete_ocr, df])\n",
    "df_complete_ocr.columns =  ['PARTIDO', 'CANTIDAD_OCR', 'CENTRO_DE_VOTACIÓN', 'MESA']\n",
    "\n",
    "df_complete_ocr = df_complete_ocr[(df_complete_ocr[\"PARTIDO\"]!=\"Total Votos Válidos\") & (df_complete_ocr[\"PARTIDO\"]!=\"Votos Nulos\")& (df_complete_ocr[\"PARTIDO\"]!=\"Votos en Blanco\")&(df_complete_ocr[\"PARTIDO\"]!=\"Total Votos Válidamente Emitidos\")&(df_complete_ocr[\"PARTIDO\"]!=\"Votos Inválidos\")& (df_complete_ocr[\"PARTIDO\"]!=\"Total Votos\")&(df_complete_ocr[\"PARTIDO\"]!=\"Impugnaciones\")&(df_complete_ocr[\"PARTIDO\"]!=\"Cantidad de papeletas recibidas\")&(df_complete_ocr[\"PARTIDO\"]!=\"Cantidad de papeletas no usadas\")].copy().reset_index(drop=True)\n",
    "\n",
    "diccionario_partidos = {'UNIDAD NACIONAL DE LA ESPERANZA':'UNE',\n",
    " 'VALOR UNIONISTA':'VALOR UNIONISTA',\n",
    " 'PARTIDO REPUBLICANO':'PR',\n",
    " 'CAMBIO':'CAMBIO',\n",
    " 'PARTIDO AZUL':'AZUL',\n",
    " 'MOVIMIENTO PARA LA LIBERACION DE LOS PUEBLOS':'MLP',\n",
    " 'VICTORIA':'VICTORIA',\n",
    " 'VAMOS POR UNA GUATEMALA DIFERENTE':'VAMOS',\n",
    " 'PARTIDO HUMANISTA DE GUATEMALA':'PHG',\n",
    " 'BIENESTAR NACIONAL':'BIEN',\n",
    " 'UNION REPUBLICANA':'UR',\n",
    " 'PARTIDO DE AVANZADA NACIONAL':'P A N',\n",
    " 'PARTIDO DE INTEGRACIÓN NACIONAL':'PIN',\n",
    " 'FRENTE DE CONVERGENCIA NACIONAL':'FCN-NACION',\n",
    " 'COMITE CIVICO LA GOTA DE AGUA':'COMITE CIVICO LA GOTA DE AGUA',\n",
    " 'PARTIDO POLITICO NOSOTROS':'PPN',\n",
    " 'SEMILLA URNG-MAIZ WINAQ':'FOPPA X LA CIUDAD',\n",
    " 'MI FAMILIA':'MI FAMILIA',\n",
    " 'CABAL':'CABAL',\n",
    " 'VISION CON VALORES':'VIVA',\n",
    " 'PODEMOS':'PODEMOS',\n",
    " 'PARTIDO DE OPORTUNIDADES Y DESARROLLO':'PODER',\n",
    " 'COMPROMISO, RENOVACION Y ORDEN': 'CREO'}\n",
    "\n",
    "df_complete_ocr[\"PARTIDO\"] = df_complete_ocr[\"PARTIDO\"].replace(diccionario_partidos)\n",
    "\n",
    "df_complete_ocr"
   ],
   "metadata": {
    "collapsed": false,
    "ExecuteTime": {
     "end_time": "2023-07-01T21:04:00.852926Z",
     "start_time": "2023-07-01T21:03:57.913287Z"
    }
   }
  },
  {
   "cell_type": "code",
   "execution_count": 156,
   "outputs": [],
   "source": [
    "#df_complete_ocr = df_complete_ocr[(df_complete_ocr[\"PARTIDO\"]==\"VALOR UNIONISTA\") | (df_complete_ocr[\"PARTIDO\"]==\"COMPROMISO, RENOVACION Y ORDEN\")| (df_complete_ocr[\"PARTIDO\"]==\"SEMILLA URNG-MAIZ WINAQ\")].copy().reset_index(drop=True)"
   ],
   "metadata": {
    "collapsed": false,
    "ExecuteTime": {
     "end_time": "2023-07-01T21:04:00.855157Z",
     "start_time": "2023-07-01T21:04:00.853585Z"
    }
   }
  },
  {
   "cell_type": "code",
   "execution_count": 157,
   "outputs": [
    {
     "data": {
      "text/plain": "       CENTRO_DE_VOTACIÓN  MESA PARTIDO  CANTIDAD_TREP\n0                       1     1   TODOS              9\n1                       1     2   TODOS             14\n2                       1     3   TODOS             10\n3                       1     4   TODOS              9\n4                       2     5   TODOS              7\n...                   ...   ...     ...            ...\n48547                 152  2019    CREO              2\n48548                 152  2020    CREO              1\n48549                 152  2021    CREO              2\n48550                 152  2022    CREO              4\n48551                 152  2023    CREO              0\n\n[48552 rows x 4 columns]",
      "text/html": "<div>\n<style scoped>\n    .dataframe tbody tr th:only-of-type {\n        vertical-align: middle;\n    }\n\n    .dataframe tbody tr th {\n        vertical-align: top;\n    }\n\n    .dataframe thead th {\n        text-align: right;\n    }\n</style>\n<table border=\"1\" class=\"dataframe\">\n  <thead>\n    <tr style=\"text-align: right;\">\n      <th></th>\n      <th>CENTRO_DE_VOTACIÓN</th>\n      <th>MESA</th>\n      <th>PARTIDO</th>\n      <th>CANTIDAD_TREP</th>\n    </tr>\n  </thead>\n  <tbody>\n    <tr>\n      <th>0</th>\n      <td>1</td>\n      <td>1</td>\n      <td>TODOS</td>\n      <td>9</td>\n    </tr>\n    <tr>\n      <th>1</th>\n      <td>1</td>\n      <td>2</td>\n      <td>TODOS</td>\n      <td>14</td>\n    </tr>\n    <tr>\n      <th>2</th>\n      <td>1</td>\n      <td>3</td>\n      <td>TODOS</td>\n      <td>10</td>\n    </tr>\n    <tr>\n      <th>3</th>\n      <td>1</td>\n      <td>4</td>\n      <td>TODOS</td>\n      <td>9</td>\n    </tr>\n    <tr>\n      <th>4</th>\n      <td>2</td>\n      <td>5</td>\n      <td>TODOS</td>\n      <td>7</td>\n    </tr>\n    <tr>\n      <th>...</th>\n      <td>...</td>\n      <td>...</td>\n      <td>...</td>\n      <td>...</td>\n    </tr>\n    <tr>\n      <th>48547</th>\n      <td>152</td>\n      <td>2019</td>\n      <td>CREO</td>\n      <td>2</td>\n    </tr>\n    <tr>\n      <th>48548</th>\n      <td>152</td>\n      <td>2020</td>\n      <td>CREO</td>\n      <td>1</td>\n    </tr>\n    <tr>\n      <th>48549</th>\n      <td>152</td>\n      <td>2021</td>\n      <td>CREO</td>\n      <td>2</td>\n    </tr>\n    <tr>\n      <th>48550</th>\n      <td>152</td>\n      <td>2022</td>\n      <td>CREO</td>\n      <td>4</td>\n    </tr>\n    <tr>\n      <th>48551</th>\n      <td>152</td>\n      <td>2023</td>\n      <td>CREO</td>\n      <td>0</td>\n    </tr>\n  </tbody>\n</table>\n<p>48552 rows × 4 columns</p>\n</div>"
     },
     "execution_count": 157,
     "metadata": {},
     "output_type": "execute_result"
    }
   ],
   "source": [
    "df_complete_trep = pd.read_csv(directorio_trep_documento, sep=\",\",skiprows=4)\n",
    "df_complete_trep = df_complete_trep.iloc[:,:31].copy().drop(columns=[\"DEPARTAMENTO\", \"ID_DEPARTAMENTO\", \"MUNICIPIO\", \"ID_MUNICIPIO\", \"PADRÓN\"])\n",
    "df_complete_trep = pd.melt(df_complete_trep, id_vars=[\"CENTRO_DE_VOTACIÓN\", \"MESA\"], value_vars=df_complete_trep.columns[2:], var_name=\"PARTIDO\", value_name=\"CANTIDAD_TREP\")\n",
    "\n",
    "df_complete_trep[\"CANTIDAD_TREP\"] = df_complete_trep[\"CANTIDAD_TREP\"].replace(\"--\", 0)\n",
    "df_complete_trep[\"CANTIDAD_TREP\"] = df_complete_trep[\"CANTIDAD_TREP\"].astype(int)\n",
    "df_complete_trep"
   ],
   "metadata": {
    "collapsed": false,
    "ExecuteTime": {
     "end_time": "2023-07-01T21:04:00.893691Z",
     "start_time": "2023-07-01T21:04:00.857176Z"
    }
   }
  },
  {
   "cell_type": "code",
   "execution_count": 158,
   "outputs": [
    {
     "data": {
      "text/plain": "                               CANTIDAD_OCR  CENTRO_DE_VOTACIÓN     MESA\nPARTIDO                                                                 \nAZUL                                  11760              152812  2047276\nBIEN                                   5557              152812  2047276\nCABAL                                  4840              152812  2047276\nCAMBIO                                 6111              152812  2047276\nCOMITE CIVICO LA GOTA DE AGUA          1127              152812  2047276\nCREO                                 105698              152812  2047276\nFCN-NACION                             1555              152812  2047276\nFOPPA X LA CIUDAD                     77663              152812  2047276\nMI FAMILIA                             2278              152812  2047276\nMLP                                    2050              152812  2047276\nP A N                                  3451              152812  2047276\nPHG                                    1359              152812  2047276\nPIN                                    1378              152812  2047276\nPODEMOS                               18378              152812  2047276\nPODER                                  1563              152812  2047276\nPPN                                    4364              152812  2047276\nPR                                     1316              152812  2047276\nUNE                                   32191              152812  2047276\nUR                                     1731              152812  2047276\nVALOR UNIONISTA                      106220              152812  2047276\nVAMOS                                  9217              152812  2047276\nVICTORIA                               7903              152812  2047276\nVIVA                                   8067              152812  2047276",
      "text/html": "<div>\n<style scoped>\n    .dataframe tbody tr th:only-of-type {\n        vertical-align: middle;\n    }\n\n    .dataframe tbody tr th {\n        vertical-align: top;\n    }\n\n    .dataframe thead th {\n        text-align: right;\n    }\n</style>\n<table border=\"1\" class=\"dataframe\">\n  <thead>\n    <tr style=\"text-align: right;\">\n      <th></th>\n      <th>CANTIDAD_OCR</th>\n      <th>CENTRO_DE_VOTACIÓN</th>\n      <th>MESA</th>\n    </tr>\n    <tr>\n      <th>PARTIDO</th>\n      <th></th>\n      <th></th>\n      <th></th>\n    </tr>\n  </thead>\n  <tbody>\n    <tr>\n      <th>AZUL</th>\n      <td>11760</td>\n      <td>152812</td>\n      <td>2047276</td>\n    </tr>\n    <tr>\n      <th>BIEN</th>\n      <td>5557</td>\n      <td>152812</td>\n      <td>2047276</td>\n    </tr>\n    <tr>\n      <th>CABAL</th>\n      <td>4840</td>\n      <td>152812</td>\n      <td>2047276</td>\n    </tr>\n    <tr>\n      <th>CAMBIO</th>\n      <td>6111</td>\n      <td>152812</td>\n      <td>2047276</td>\n    </tr>\n    <tr>\n      <th>COMITE CIVICO LA GOTA DE AGUA</th>\n      <td>1127</td>\n      <td>152812</td>\n      <td>2047276</td>\n    </tr>\n    <tr>\n      <th>CREO</th>\n      <td>105698</td>\n      <td>152812</td>\n      <td>2047276</td>\n    </tr>\n    <tr>\n      <th>FCN-NACION</th>\n      <td>1555</td>\n      <td>152812</td>\n      <td>2047276</td>\n    </tr>\n    <tr>\n      <th>FOPPA X LA CIUDAD</th>\n      <td>77663</td>\n      <td>152812</td>\n      <td>2047276</td>\n    </tr>\n    <tr>\n      <th>MI FAMILIA</th>\n      <td>2278</td>\n      <td>152812</td>\n      <td>2047276</td>\n    </tr>\n    <tr>\n      <th>MLP</th>\n      <td>2050</td>\n      <td>152812</td>\n      <td>2047276</td>\n    </tr>\n    <tr>\n      <th>P A N</th>\n      <td>3451</td>\n      <td>152812</td>\n      <td>2047276</td>\n    </tr>\n    <tr>\n      <th>PHG</th>\n      <td>1359</td>\n      <td>152812</td>\n      <td>2047276</td>\n    </tr>\n    <tr>\n      <th>PIN</th>\n      <td>1378</td>\n      <td>152812</td>\n      <td>2047276</td>\n    </tr>\n    <tr>\n      <th>PODEMOS</th>\n      <td>18378</td>\n      <td>152812</td>\n      <td>2047276</td>\n    </tr>\n    <tr>\n      <th>PODER</th>\n      <td>1563</td>\n      <td>152812</td>\n      <td>2047276</td>\n    </tr>\n    <tr>\n      <th>PPN</th>\n      <td>4364</td>\n      <td>152812</td>\n      <td>2047276</td>\n    </tr>\n    <tr>\n      <th>PR</th>\n      <td>1316</td>\n      <td>152812</td>\n      <td>2047276</td>\n    </tr>\n    <tr>\n      <th>UNE</th>\n      <td>32191</td>\n      <td>152812</td>\n      <td>2047276</td>\n    </tr>\n    <tr>\n      <th>UR</th>\n      <td>1731</td>\n      <td>152812</td>\n      <td>2047276</td>\n    </tr>\n    <tr>\n      <th>VALOR UNIONISTA</th>\n      <td>106220</td>\n      <td>152812</td>\n      <td>2047276</td>\n    </tr>\n    <tr>\n      <th>VAMOS</th>\n      <td>9217</td>\n      <td>152812</td>\n      <td>2047276</td>\n    </tr>\n    <tr>\n      <th>VICTORIA</th>\n      <td>7903</td>\n      <td>152812</td>\n      <td>2047276</td>\n    </tr>\n    <tr>\n      <th>VIVA</th>\n      <td>8067</td>\n      <td>152812</td>\n      <td>2047276</td>\n    </tr>\n  </tbody>\n</table>\n</div>"
     },
     "execution_count": 158,
     "metadata": {},
     "output_type": "execute_result"
    }
   ],
   "source": [
    "df_complete_ocr.groupby([\"PARTIDO\"]).sum()"
   ],
   "metadata": {
    "collapsed": false,
    "ExecuteTime": {
     "end_time": "2023-07-01T21:04:01.755224Z",
     "start_time": "2023-07-01T21:04:01.745547Z"
    }
   }
  },
  {
   "cell_type": "code",
   "execution_count": 159,
   "outputs": [
    {
     "data": {
      "text/plain": "                               CENTRO_DE_VOTACIÓN     MESA  CANTIDAD_TREP\nPARTIDO                                                                  \nAZUL                                       152812  2047276          11760\nBIEN                                       152812  2047276           5557\nCABAL                                      152812  2047276           4840\nCAMBIO                                     152812  2047276           6111\nCOMITE CIVICO LA GOTA DE AGUA              152812  2047276           1127\nCREO                                       152812  2047276         105698\nFCN-NACION                                 152812  2047276           1555\nFOPPA X LA CIUDAD                          152812  2047276          77663\nMI FAMILIA                                 152812  2047276           2278\nMLP                                        152812  2047276           2050\nP A N                                      152812  2047276           3451\nPHG                                        152812  2047276           1359\nPIN                                        152812  2047276           1378\nPODEMOS                                    152812  2047276          18378\nPODER                                      152812  2047276           1563\nPPN                                        152812  2047276           4364\nPR                                         152812  2047276           1316\nTODOS                                      152812  2047276          16431\nUNE                                        152812  2047276          32191\nUR                                         152812  2047276           1731\nVALOR UNIONISTA                            152812  2047276         106220\nVAMOS                                      152812  2047276           9217\nVICTORIA                                   152812  2047276           7903\nVIVA                                       152812  2047276           8067",
      "text/html": "<div>\n<style scoped>\n    .dataframe tbody tr th:only-of-type {\n        vertical-align: middle;\n    }\n\n    .dataframe tbody tr th {\n        vertical-align: top;\n    }\n\n    .dataframe thead th {\n        text-align: right;\n    }\n</style>\n<table border=\"1\" class=\"dataframe\">\n  <thead>\n    <tr style=\"text-align: right;\">\n      <th></th>\n      <th>CENTRO_DE_VOTACIÓN</th>\n      <th>MESA</th>\n      <th>CANTIDAD_TREP</th>\n    </tr>\n    <tr>\n      <th>PARTIDO</th>\n      <th></th>\n      <th></th>\n      <th></th>\n    </tr>\n  </thead>\n  <tbody>\n    <tr>\n      <th>AZUL</th>\n      <td>152812</td>\n      <td>2047276</td>\n      <td>11760</td>\n    </tr>\n    <tr>\n      <th>BIEN</th>\n      <td>152812</td>\n      <td>2047276</td>\n      <td>5557</td>\n    </tr>\n    <tr>\n      <th>CABAL</th>\n      <td>152812</td>\n      <td>2047276</td>\n      <td>4840</td>\n    </tr>\n    <tr>\n      <th>CAMBIO</th>\n      <td>152812</td>\n      <td>2047276</td>\n      <td>6111</td>\n    </tr>\n    <tr>\n      <th>COMITE CIVICO LA GOTA DE AGUA</th>\n      <td>152812</td>\n      <td>2047276</td>\n      <td>1127</td>\n    </tr>\n    <tr>\n      <th>CREO</th>\n      <td>152812</td>\n      <td>2047276</td>\n      <td>105698</td>\n    </tr>\n    <tr>\n      <th>FCN-NACION</th>\n      <td>152812</td>\n      <td>2047276</td>\n      <td>1555</td>\n    </tr>\n    <tr>\n      <th>FOPPA X LA CIUDAD</th>\n      <td>152812</td>\n      <td>2047276</td>\n      <td>77663</td>\n    </tr>\n    <tr>\n      <th>MI FAMILIA</th>\n      <td>152812</td>\n      <td>2047276</td>\n      <td>2278</td>\n    </tr>\n    <tr>\n      <th>MLP</th>\n      <td>152812</td>\n      <td>2047276</td>\n      <td>2050</td>\n    </tr>\n    <tr>\n      <th>P A N</th>\n      <td>152812</td>\n      <td>2047276</td>\n      <td>3451</td>\n    </tr>\n    <tr>\n      <th>PHG</th>\n      <td>152812</td>\n      <td>2047276</td>\n      <td>1359</td>\n    </tr>\n    <tr>\n      <th>PIN</th>\n      <td>152812</td>\n      <td>2047276</td>\n      <td>1378</td>\n    </tr>\n    <tr>\n      <th>PODEMOS</th>\n      <td>152812</td>\n      <td>2047276</td>\n      <td>18378</td>\n    </tr>\n    <tr>\n      <th>PODER</th>\n      <td>152812</td>\n      <td>2047276</td>\n      <td>1563</td>\n    </tr>\n    <tr>\n      <th>PPN</th>\n      <td>152812</td>\n      <td>2047276</td>\n      <td>4364</td>\n    </tr>\n    <tr>\n      <th>PR</th>\n      <td>152812</td>\n      <td>2047276</td>\n      <td>1316</td>\n    </tr>\n    <tr>\n      <th>TODOS</th>\n      <td>152812</td>\n      <td>2047276</td>\n      <td>16431</td>\n    </tr>\n    <tr>\n      <th>UNE</th>\n      <td>152812</td>\n      <td>2047276</td>\n      <td>32191</td>\n    </tr>\n    <tr>\n      <th>UR</th>\n      <td>152812</td>\n      <td>2047276</td>\n      <td>1731</td>\n    </tr>\n    <tr>\n      <th>VALOR UNIONISTA</th>\n      <td>152812</td>\n      <td>2047276</td>\n      <td>106220</td>\n    </tr>\n    <tr>\n      <th>VAMOS</th>\n      <td>152812</td>\n      <td>2047276</td>\n      <td>9217</td>\n    </tr>\n    <tr>\n      <th>VICTORIA</th>\n      <td>152812</td>\n      <td>2047276</td>\n      <td>7903</td>\n    </tr>\n    <tr>\n      <th>VIVA</th>\n      <td>152812</td>\n      <td>2047276</td>\n      <td>8067</td>\n    </tr>\n  </tbody>\n</table>\n</div>"
     },
     "execution_count": 159,
     "metadata": {},
     "output_type": "execute_result"
    }
   ],
   "source": [
    "df_complete_trep.groupby([\"PARTIDO\"]).sum()\n"
   ],
   "metadata": {
    "collapsed": false,
    "ExecuteTime": {
     "end_time": "2023-07-01T21:04:02.861498Z",
     "start_time": "2023-07-01T21:04:02.847381Z"
    }
   }
  },
  {
   "cell_type": "code",
   "execution_count": 149,
   "outputs": [
    {
     "data": {
      "text/plain": "               PARTIDO  CANTIDAD_OCR  CENTRO_DE_VOTACIÓN  MESA  CANTIDAD_TREP\n0                  UNE            17                  94  1276             17\n1      VALOR UNIONISTA            36                  94  1276             36\n2                   PR             0                  94  1276              0\n3               CAMBIO             4                  94  1276              4\n4                 AZUL             3                  94  1276              3\n...                ...           ...                 ...   ...            ...\n46524            CABAL             4                  42   537              4\n46525             VIVA             7                  42   537              7\n46526          PODEMOS            14                  42   537             14\n46527            PODER             0                  42   537              0\n46528             CREO            53                  42   537             53\n\n[46529 rows x 5 columns]",
      "text/html": "<div>\n<style scoped>\n    .dataframe tbody tr th:only-of-type {\n        vertical-align: middle;\n    }\n\n    .dataframe tbody tr th {\n        vertical-align: top;\n    }\n\n    .dataframe thead th {\n        text-align: right;\n    }\n</style>\n<table border=\"1\" class=\"dataframe\">\n  <thead>\n    <tr style=\"text-align: right;\">\n      <th></th>\n      <th>PARTIDO</th>\n      <th>CANTIDAD_OCR</th>\n      <th>CENTRO_DE_VOTACIÓN</th>\n      <th>MESA</th>\n      <th>CANTIDAD_TREP</th>\n    </tr>\n  </thead>\n  <tbody>\n    <tr>\n      <th>0</th>\n      <td>UNE</td>\n      <td>17</td>\n      <td>94</td>\n      <td>1276</td>\n      <td>17</td>\n    </tr>\n    <tr>\n      <th>1</th>\n      <td>VALOR UNIONISTA</td>\n      <td>36</td>\n      <td>94</td>\n      <td>1276</td>\n      <td>36</td>\n    </tr>\n    <tr>\n      <th>2</th>\n      <td>PR</td>\n      <td>0</td>\n      <td>94</td>\n      <td>1276</td>\n      <td>0</td>\n    </tr>\n    <tr>\n      <th>3</th>\n      <td>CAMBIO</td>\n      <td>4</td>\n      <td>94</td>\n      <td>1276</td>\n      <td>4</td>\n    </tr>\n    <tr>\n      <th>4</th>\n      <td>AZUL</td>\n      <td>3</td>\n      <td>94</td>\n      <td>1276</td>\n      <td>3</td>\n    </tr>\n    <tr>\n      <th>...</th>\n      <td>...</td>\n      <td>...</td>\n      <td>...</td>\n      <td>...</td>\n      <td>...</td>\n    </tr>\n    <tr>\n      <th>46524</th>\n      <td>CABAL</td>\n      <td>4</td>\n      <td>42</td>\n      <td>537</td>\n      <td>4</td>\n    </tr>\n    <tr>\n      <th>46525</th>\n      <td>VIVA</td>\n      <td>7</td>\n      <td>42</td>\n      <td>537</td>\n      <td>7</td>\n    </tr>\n    <tr>\n      <th>46526</th>\n      <td>PODEMOS</td>\n      <td>14</td>\n      <td>42</td>\n      <td>537</td>\n      <td>14</td>\n    </tr>\n    <tr>\n      <th>46527</th>\n      <td>PODER</td>\n      <td>0</td>\n      <td>42</td>\n      <td>537</td>\n      <td>0</td>\n    </tr>\n    <tr>\n      <th>46528</th>\n      <td>CREO</td>\n      <td>53</td>\n      <td>42</td>\n      <td>537</td>\n      <td>53</td>\n    </tr>\n  </tbody>\n</table>\n<p>46529 rows × 5 columns</p>\n</div>"
     },
     "execution_count": 149,
     "metadata": {},
     "output_type": "execute_result"
    }
   ],
   "source": [
    "df_completo_con_ocr_y_trep = pd.merge(df_complete_ocr, df_complete_trep, on=[\"CENTRO_DE_VOTACIÓN\", \"MESA\", \"PARTIDO\"],how='left')\n",
    "df_completo_con_ocr_y_trep"
   ],
   "metadata": {
    "collapsed": false,
    "ExecuteTime": {
     "end_time": "2023-07-01T21:02:14.226032Z",
     "start_time": "2023-07-01T21:02:14.204566Z"
    }
   }
  },
  {
   "cell_type": "code",
   "execution_count": 150,
   "outputs": [
    {
     "data": {
      "text/plain": "               PARTIDO  CANTIDAD_OCR  CENTRO_DE_VOTACIÓN  MESA  CANTIDAD_TREP\n0                  UNE            17                  94  1276             17\n1      VALOR UNIONISTA            36                  94  1276             36\n2                   PR             0                  94  1276              0\n3               CAMBIO             4                  94  1276              4\n4                 AZUL             3                  94  1276              3\n...                ...           ...                 ...   ...            ...\n46524            CABAL             4                  42   537              4\n46525             VIVA             7                  42   537              7\n46526          PODEMOS            14                  42   537             14\n46527            PODER             0                  42   537              0\n46528             CREO            53                  42   537             53\n\n[46529 rows x 5 columns]",
      "text/html": "<div>\n<style scoped>\n    .dataframe tbody tr th:only-of-type {\n        vertical-align: middle;\n    }\n\n    .dataframe tbody tr th {\n        vertical-align: top;\n    }\n\n    .dataframe thead th {\n        text-align: right;\n    }\n</style>\n<table border=\"1\" class=\"dataframe\">\n  <thead>\n    <tr style=\"text-align: right;\">\n      <th></th>\n      <th>PARTIDO</th>\n      <th>CANTIDAD_OCR</th>\n      <th>CENTRO_DE_VOTACIÓN</th>\n      <th>MESA</th>\n      <th>CANTIDAD_TREP</th>\n    </tr>\n  </thead>\n  <tbody>\n    <tr>\n      <th>0</th>\n      <td>UNE</td>\n      <td>17</td>\n      <td>94</td>\n      <td>1276</td>\n      <td>17</td>\n    </tr>\n    <tr>\n      <th>1</th>\n      <td>VALOR UNIONISTA</td>\n      <td>36</td>\n      <td>94</td>\n      <td>1276</td>\n      <td>36</td>\n    </tr>\n    <tr>\n      <th>2</th>\n      <td>PR</td>\n      <td>0</td>\n      <td>94</td>\n      <td>1276</td>\n      <td>0</td>\n    </tr>\n    <tr>\n      <th>3</th>\n      <td>CAMBIO</td>\n      <td>4</td>\n      <td>94</td>\n      <td>1276</td>\n      <td>4</td>\n    </tr>\n    <tr>\n      <th>4</th>\n      <td>AZUL</td>\n      <td>3</td>\n      <td>94</td>\n      <td>1276</td>\n      <td>3</td>\n    </tr>\n    <tr>\n      <th>...</th>\n      <td>...</td>\n      <td>...</td>\n      <td>...</td>\n      <td>...</td>\n      <td>...</td>\n    </tr>\n    <tr>\n      <th>46524</th>\n      <td>CABAL</td>\n      <td>4</td>\n      <td>42</td>\n      <td>537</td>\n      <td>4</td>\n    </tr>\n    <tr>\n      <th>46525</th>\n      <td>VIVA</td>\n      <td>7</td>\n      <td>42</td>\n      <td>537</td>\n      <td>7</td>\n    </tr>\n    <tr>\n      <th>46526</th>\n      <td>PODEMOS</td>\n      <td>14</td>\n      <td>42</td>\n      <td>537</td>\n      <td>14</td>\n    </tr>\n    <tr>\n      <th>46527</th>\n      <td>PODER</td>\n      <td>0</td>\n      <td>42</td>\n      <td>537</td>\n      <td>0</td>\n    </tr>\n    <tr>\n      <th>46528</th>\n      <td>CREO</td>\n      <td>53</td>\n      <td>42</td>\n      <td>537</td>\n      <td>53</td>\n    </tr>\n  </tbody>\n</table>\n<p>46529 rows × 5 columns</p>\n</div>"
     },
     "execution_count": 150,
     "metadata": {},
     "output_type": "execute_result"
    }
   ],
   "source": [
    "df_completo_con_ocr_y_trep"
   ],
   "metadata": {
    "collapsed": false,
    "ExecuteTime": {
     "end_time": "2023-07-01T21:02:15.205732Z",
     "start_time": "2023-07-01T21:02:15.191069Z"
    }
   }
  },
  {
   "cell_type": "code",
   "execution_count": 151,
   "outputs": [],
   "source": [
    "df_completo_con_ocr_y_trep[\"DIFERENCIA\"] = df_completo_con_ocr_y_trep[\"CANTIDAD_OCR\"] - df_completo_con_ocr_y_trep[\"CANTIDAD_TREP\"]"
   ],
   "metadata": {
    "collapsed": false,
    "ExecuteTime": {
     "end_time": "2023-07-01T21:02:16.053543Z",
     "start_time": "2023-07-01T21:02:16.048430Z"
    }
   }
  },
  {
   "cell_type": "code",
   "execution_count": 152,
   "outputs": [],
   "source": [
    "df_final_diferencias = df_completo_con_ocr_y_trep[df_completo_con_ocr_y_trep[\"DIFERENCIA\"] != 0].copy()\n"
   ],
   "metadata": {
    "collapsed": false,
    "ExecuteTime": {
     "end_time": "2023-07-01T21:02:16.627178Z",
     "start_time": "2023-07-01T21:02:16.621287Z"
    }
   }
  },
  {
   "cell_type": "code",
   "execution_count": 153,
   "outputs": [
    {
     "data": {
      "text/plain": "Empty DataFrame\nColumns: [PARTIDO, CANTIDAD_OCR, CENTRO_DE_VOTACIÓN, MESA, CANTIDAD_TREP, DIFERENCIA]\nIndex: []",
      "text/html": "<div>\n<style scoped>\n    .dataframe tbody tr th:only-of-type {\n        vertical-align: middle;\n    }\n\n    .dataframe tbody tr th {\n        vertical-align: top;\n    }\n\n    .dataframe thead th {\n        text-align: right;\n    }\n</style>\n<table border=\"1\" class=\"dataframe\">\n  <thead>\n    <tr style=\"text-align: right;\">\n      <th></th>\n      <th>PARTIDO</th>\n      <th>CANTIDAD_OCR</th>\n      <th>CENTRO_DE_VOTACIÓN</th>\n      <th>MESA</th>\n      <th>CANTIDAD_TREP</th>\n      <th>DIFERENCIA</th>\n    </tr>\n  </thead>\n  <tbody>\n  </tbody>\n</table>\n</div>"
     },
     "execution_count": 153,
     "metadata": {},
     "output_type": "execute_result"
    }
   ],
   "source": [
    "df_final_diferencias"
   ],
   "metadata": {
    "collapsed": false,
    "ExecuteTime": {
     "end_time": "2023-07-01T21:02:17.545964Z",
     "start_time": "2023-07-01T21:02:17.541754Z"
    }
   }
  },
  {
   "cell_type": "code",
   "execution_count": 153,
   "outputs": [],
   "source": [],
   "metadata": {
    "collapsed": false,
    "ExecuteTime": {
     "end_time": "2023-07-01T21:02:20.413822Z",
     "start_time": "2023-07-01T21:02:20.408575Z"
    }
   }
  },
  {
   "cell_type": "code",
   "execution_count": 116,
   "outputs": [],
   "source": [
    "#df_final_diferencias.to_csv(\"/Users/rudikrompich/Git/analisis_tse_elecciones_2023/departamento/distrito_central/municipio/guatemala/corporacion_municipal/diferencias_ocr_trep/diferencias.csv\", index=False)"
   ],
   "metadata": {
    "collapsed": false,
    "ExecuteTime": {
     "end_time": "2023-07-01T20:49:21.007250Z",
     "start_time": "2023-07-01T20:49:21.004067Z"
    }
   }
  }
 ],
 "metadata": {
  "kernelspec": {
   "display_name": "Python 3",
   "language": "python",
   "name": "python3"
  },
  "language_info": {
   "codemirror_mode": {
    "name": "ipython",
    "version": 2
   },
   "file_extension": ".py",
   "mimetype": "text/x-python",
   "name": "python",
   "nbconvert_exporter": "python",
   "pygments_lexer": "ipython2",
   "version": "2.7.6"
  }
 },
 "nbformat": 4,
 "nbformat_minor": 0
}
